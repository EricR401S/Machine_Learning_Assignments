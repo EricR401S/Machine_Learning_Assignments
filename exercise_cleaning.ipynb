{
 "cells": [
  {
   "cell_type": "markdown",
   "metadata": {},
   "source": [
    "# Exercise Cleaning\n",
    "## Eric Rios Soderman"
   ]
  },
  {
   "cell_type": "markdown",
   "metadata": {},
   "source": [
    "#### This is an exercise in which the American Community Survey (ACS) data will be cleaned, to better facilitate data analysis."
   ]
  },
  {
   "cell_type": "markdown",
   "metadata": {},
   "source": [
    "#### Exercise #1\n",
    "\n",
    "#### Import the ACS data from the url."
   ]
  },
  {
   "cell_type": "code",
   "execution_count": 1,
   "metadata": {},
   "outputs": [
    {
     "data": {
      "text/html": [
       "<div>\n",
       "<style scoped>\n",
       "    .dataframe tbody tr th:only-of-type {\n",
       "        vertical-align: middle;\n",
       "    }\n",
       "\n",
       "    .dataframe tbody tr th {\n",
       "        vertical-align: top;\n",
       "    }\n",
       "\n",
       "    .dataframe thead th {\n",
       "        text-align: right;\n",
       "    }\n",
       "</style>\n",
       "<table border=\"1\" class=\"dataframe\">\n",
       "  <thead>\n",
       "    <tr style=\"text-align: right;\">\n",
       "      <th></th>\n",
       "      <th>year</th>\n",
       "      <th>datanum</th>\n",
       "      <th>serial</th>\n",
       "      <th>cbserial</th>\n",
       "      <th>numprec</th>\n",
       "      <th>subsamp</th>\n",
       "      <th>hhwt</th>\n",
       "      <th>hhtype</th>\n",
       "      <th>cluster</th>\n",
       "      <th>adjust</th>\n",
       "      <th>...</th>\n",
       "      <th>migcounty1</th>\n",
       "      <th>migmet131</th>\n",
       "      <th>vetdisab</th>\n",
       "      <th>diffrem</th>\n",
       "      <th>diffphys</th>\n",
       "      <th>diffmob</th>\n",
       "      <th>diffcare</th>\n",
       "      <th>diffsens</th>\n",
       "      <th>diffeye</th>\n",
       "      <th>diffhear</th>\n",
       "    </tr>\n",
       "  </thead>\n",
       "  <tbody>\n",
       "    <tr>\n",
       "      <th>0</th>\n",
       "      <td>2017</td>\n",
       "      <td>1</td>\n",
       "      <td>177686</td>\n",
       "      <td>2.017001e+12</td>\n",
       "      <td>9</td>\n",
       "      <td>64</td>\n",
       "      <td>55</td>\n",
       "      <td>female householder, no husband present</td>\n",
       "      <td>2.017002e+12</td>\n",
       "      <td>1.011189</td>\n",
       "      <td>...</td>\n",
       "      <td>0</td>\n",
       "      <td>not in identifiable area</td>\n",
       "      <td>n/a</td>\n",
       "      <td>n/a</td>\n",
       "      <td>n/a</td>\n",
       "      <td>n/a</td>\n",
       "      <td>n/a</td>\n",
       "      <td>no vision or hearing difficulty</td>\n",
       "      <td>no</td>\n",
       "      <td>no</td>\n",
       "    </tr>\n",
       "    <tr>\n",
       "      <th>1</th>\n",
       "      <td>2017</td>\n",
       "      <td>1</td>\n",
       "      <td>1200045</td>\n",
       "      <td>2.017001e+12</td>\n",
       "      <td>6</td>\n",
       "      <td>79</td>\n",
       "      <td>25</td>\n",
       "      <td>male householder, no wife present</td>\n",
       "      <td>2.017012e+12</td>\n",
       "      <td>1.011189</td>\n",
       "      <td>...</td>\n",
       "      <td>0</td>\n",
       "      <td>not in identifiable area</td>\n",
       "      <td>n/a</td>\n",
       "      <td>no cognitive difficulty</td>\n",
       "      <td>no ambulatory difficulty</td>\n",
       "      <td>no independent living difficulty</td>\n",
       "      <td>no</td>\n",
       "      <td>no vision or hearing difficulty</td>\n",
       "      <td>no</td>\n",
       "      <td>no</td>\n",
       "    </tr>\n",
       "    <tr>\n",
       "      <th>2</th>\n",
       "      <td>2017</td>\n",
       "      <td>1</td>\n",
       "      <td>70831</td>\n",
       "      <td>2.017000e+12</td>\n",
       "      <td>1 person record</td>\n",
       "      <td>36</td>\n",
       "      <td>57</td>\n",
       "      <td>male householder, living alone</td>\n",
       "      <td>2.017001e+12</td>\n",
       "      <td>1.011189</td>\n",
       "      <td>...</td>\n",
       "      <td>0</td>\n",
       "      <td>not in identifiable area</td>\n",
       "      <td>n/a</td>\n",
       "      <td>has cognitive difficulty</td>\n",
       "      <td>no ambulatory difficulty</td>\n",
       "      <td>no independent living difficulty</td>\n",
       "      <td>no</td>\n",
       "      <td>no vision or hearing difficulty</td>\n",
       "      <td>no</td>\n",
       "      <td>no</td>\n",
       "    </tr>\n",
       "    <tr>\n",
       "      <th>3</th>\n",
       "      <td>2017</td>\n",
       "      <td>1</td>\n",
       "      <td>557128</td>\n",
       "      <td>2.017001e+12</td>\n",
       "      <td>2</td>\n",
       "      <td>10</td>\n",
       "      <td>98</td>\n",
       "      <td>married-couple family household</td>\n",
       "      <td>2.017006e+12</td>\n",
       "      <td>1.011189</td>\n",
       "      <td>...</td>\n",
       "      <td>0</td>\n",
       "      <td>not in identifiable area</td>\n",
       "      <td>n/a</td>\n",
       "      <td>no cognitive difficulty</td>\n",
       "      <td>no ambulatory difficulty</td>\n",
       "      <td>no independent living difficulty</td>\n",
       "      <td>no</td>\n",
       "      <td>no vision or hearing difficulty</td>\n",
       "      <td>no</td>\n",
       "      <td>no</td>\n",
       "    </tr>\n",
       "    <tr>\n",
       "      <th>4</th>\n",
       "      <td>2017</td>\n",
       "      <td>1</td>\n",
       "      <td>614890</td>\n",
       "      <td>2.017001e+12</td>\n",
       "      <td>4</td>\n",
       "      <td>96</td>\n",
       "      <td>54</td>\n",
       "      <td>married-couple family household</td>\n",
       "      <td>2.017006e+12</td>\n",
       "      <td>1.011189</td>\n",
       "      <td>...</td>\n",
       "      <td>0</td>\n",
       "      <td>not in identifiable area</td>\n",
       "      <td>n/a</td>\n",
       "      <td>n/a</td>\n",
       "      <td>n/a</td>\n",
       "      <td>n/a</td>\n",
       "      <td>n/a</td>\n",
       "      <td>no vision or hearing difficulty</td>\n",
       "      <td>no</td>\n",
       "      <td>no</td>\n",
       "    </tr>\n",
       "  </tbody>\n",
       "</table>\n",
       "<p>5 rows × 104 columns</p>\n",
       "</div>"
      ],
      "text/plain": [
       "   year  datanum   serial      cbserial          numprec subsamp  hhwt  \\\n",
       "0  2017        1   177686  2.017001e+12                9      64    55   \n",
       "1  2017        1  1200045  2.017001e+12                6      79    25   \n",
       "2  2017        1    70831  2.017000e+12  1 person record      36    57   \n",
       "3  2017        1   557128  2.017001e+12                2      10    98   \n",
       "4  2017        1   614890  2.017001e+12                4      96    54   \n",
       "\n",
       "                                   hhtype       cluster    adjust  ...  \\\n",
       "0  female householder, no husband present  2.017002e+12  1.011189  ...   \n",
       "1       male householder, no wife present  2.017012e+12  1.011189  ...   \n",
       "2          male householder, living alone  2.017001e+12  1.011189  ...   \n",
       "3         married-couple family household  2.017006e+12  1.011189  ...   \n",
       "4         married-couple family household  2.017006e+12  1.011189  ...   \n",
       "\n",
       "   migcounty1                 migmet131 vetdisab                   diffrem  \\\n",
       "0           0  not in identifiable area      n/a                       n/a   \n",
       "1           0  not in identifiable area      n/a   no cognitive difficulty   \n",
       "2           0  not in identifiable area      n/a  has cognitive difficulty   \n",
       "3           0  not in identifiable area      n/a   no cognitive difficulty   \n",
       "4           0  not in identifiable area      n/a                       n/a   \n",
       "\n",
       "                   diffphys                           diffmob diffcare  \\\n",
       "0                       n/a                               n/a      n/a   \n",
       "1  no ambulatory difficulty  no independent living difficulty       no   \n",
       "2  no ambulatory difficulty  no independent living difficulty       no   \n",
       "3  no ambulatory difficulty  no independent living difficulty       no   \n",
       "4                       n/a                               n/a      n/a   \n",
       "\n",
       "                          diffsens  diffeye  diffhear  \n",
       "0  no vision or hearing difficulty       no        no  \n",
       "1  no vision or hearing difficulty       no        no  \n",
       "2  no vision or hearing difficulty       no        no  \n",
       "3  no vision or hearing difficulty       no        no  \n",
       "4  no vision or hearing difficulty       no        no  \n",
       "\n",
       "[5 rows x 104 columns]"
      ]
     },
     "execution_count": 1,
     "metadata": {},
     "output_type": "execute_result"
    }
   ],
   "source": [
    "# Exercise 1\n",
    "import pandas as pd\n",
    "import numpy as np\n",
    "\n",
    "results = {}\n",
    "\n",
    "acs = pd.read_stata(\n",
    "    \"https://github.com/nickeubank/MIDS_Data/raw/master/US_AmericanCommunitySurvey/US_ACS_2017_10pct_sample.dta\"\n",
    ")\n",
    "\n",
    "acs.head()\n"
   ]
  },
  {
   "cell_type": "markdown",
   "metadata": {},
   "source": [
    "\n",
    "Exercise 2\n",
    "\n",
    "For our exercises today, we’ll focus on age, gender, educ (education), and inctot (total income). Subset your data to those variables, and quickly look at a sample of 10 rows.\n"
   ]
  },
  {
   "cell_type": "code",
   "execution_count": 2,
   "metadata": {},
   "outputs": [
    {
     "data": {
      "text/html": [
       "<div>\n",
       "<style scoped>\n",
       "    .dataframe tbody tr th:only-of-type {\n",
       "        vertical-align: middle;\n",
       "    }\n",
       "\n",
       "    .dataframe tbody tr th {\n",
       "        vertical-align: top;\n",
       "    }\n",
       "\n",
       "    .dataframe thead th {\n",
       "        text-align: right;\n",
       "    }\n",
       "</style>\n",
       "<table border=\"1\" class=\"dataframe\">\n",
       "  <thead>\n",
       "    <tr style=\"text-align: right;\">\n",
       "      <th></th>\n",
       "      <th>age</th>\n",
       "      <th>sex</th>\n",
       "      <th>educ</th>\n",
       "      <th>inctot</th>\n",
       "    </tr>\n",
       "  </thead>\n",
       "  <tbody>\n",
       "    <tr>\n",
       "      <th>138746</th>\n",
       "      <td>64</td>\n",
       "      <td>male</td>\n",
       "      <td>grade 12</td>\n",
       "      <td>28000</td>\n",
       "    </tr>\n",
       "    <tr>\n",
       "      <th>264668</th>\n",
       "      <td>50</td>\n",
       "      <td>female</td>\n",
       "      <td>n/a or no schooling</td>\n",
       "      <td>3000</td>\n",
       "    </tr>\n",
       "    <tr>\n",
       "      <th>35137</th>\n",
       "      <td>1</td>\n",
       "      <td>male</td>\n",
       "      <td>n/a or no schooling</td>\n",
       "      <td>9999999</td>\n",
       "    </tr>\n",
       "    <tr>\n",
       "      <th>281686</th>\n",
       "      <td>60</td>\n",
       "      <td>female</td>\n",
       "      <td>grade 12</td>\n",
       "      <td>35000</td>\n",
       "    </tr>\n",
       "    <tr>\n",
       "      <th>140708</th>\n",
       "      <td>39</td>\n",
       "      <td>male</td>\n",
       "      <td>grade 12</td>\n",
       "      <td>46000</td>\n",
       "    </tr>\n",
       "    <tr>\n",
       "      <th>274299</th>\n",
       "      <td>20</td>\n",
       "      <td>female</td>\n",
       "      <td>grade 12</td>\n",
       "      <td>0</td>\n",
       "    </tr>\n",
       "    <tr>\n",
       "      <th>291052</th>\n",
       "      <td>13</td>\n",
       "      <td>female</td>\n",
       "      <td>grade 5, 6, 7, or 8</td>\n",
       "      <td>9999999</td>\n",
       "    </tr>\n",
       "    <tr>\n",
       "      <th>228008</th>\n",
       "      <td>14</td>\n",
       "      <td>male</td>\n",
       "      <td>grade 5, 6, 7, or 8</td>\n",
       "      <td>9999999</td>\n",
       "    </tr>\n",
       "    <tr>\n",
       "      <th>53361</th>\n",
       "      <td>29</td>\n",
       "      <td>male</td>\n",
       "      <td>grade 12</td>\n",
       "      <td>59000</td>\n",
       "    </tr>\n",
       "    <tr>\n",
       "      <th>13354</th>\n",
       "      <td>3</td>\n",
       "      <td>male</td>\n",
       "      <td>n/a or no schooling</td>\n",
       "      <td>9999999</td>\n",
       "    </tr>\n",
       "  </tbody>\n",
       "</table>\n",
       "</div>"
      ],
      "text/plain": [
       "       age     sex                 educ   inctot\n",
       "138746  64    male             grade 12    28000\n",
       "264668  50  female  n/a or no schooling     3000\n",
       "35137    1    male  n/a or no schooling  9999999\n",
       "281686  60  female             grade 12    35000\n",
       "140708  39    male             grade 12    46000\n",
       "274299  20  female             grade 12        0\n",
       "291052  13  female  grade 5, 6, 7, or 8  9999999\n",
       "228008  14    male  grade 5, 6, 7, or 8  9999999\n",
       "53361   29    male             grade 12    59000\n",
       "13354    3    male  n/a or no schooling  9999999"
      ]
     },
     "execution_count": 2,
     "metadata": {},
     "output_type": "execute_result"
    }
   ],
   "source": [
    "# Exercise 2\n",
    "\n",
    "subset = acs.loc[:, [\"age\", \"sex\", \"educ\", \"inctot\"]]\n",
    "subset.sample(10)\n"
   ]
  },
  {
   "cell_type": "markdown",
   "metadata": {},
   "source": [
    "\n",
    "Exercise 3\n",
    "\n",
    "As before, all the values of 9999999 have the potential to cause us real problems, so replace all the values of inctot that are 9999999 with np.nan.\n"
   ]
  },
  {
   "cell_type": "code",
   "execution_count": 3,
   "metadata": {},
   "outputs": [
    {
     "data": {
      "text/plain": [
       "NaN         53901\n",
       "0.0         33679\n",
       "30000.0      4778\n",
       "50000.0      4414\n",
       "40000.0      4413\n",
       "            ...  \n",
       "70520.0         1\n",
       "76680.0         1\n",
       "57760.0         1\n",
       "200310.0        1\n",
       "505400.0        1\n",
       "Name: inctot, Length: 8471, dtype: int64"
      ]
     },
     "execution_count": 3,
     "metadata": {},
     "output_type": "execute_result"
    }
   ],
   "source": [
    "subset[\"inctot\"] = subset[\"inctot\"].replace(9999999, np.nan)\n",
    "subset[\"inctot\"].value_counts(dropna=False)\n"
   ]
  },
  {
   "cell_type": "markdown",
   "metadata": {},
   "source": [
    "\n",
    "# Exercise 4\n",
    "\n",
    "Attempt to calculate the average age of people in our data. What do you get? Why are you getting that error?\n"
   ]
  },
  {
   "cell_type": "code",
   "execution_count": 4,
   "metadata": {},
   "outputs": [],
   "source": [
    "# subset.loc[:, 'age'].mean()\n"
   ]
  },
  {
   "cell_type": "code",
   "execution_count": 5,
   "metadata": {},
   "outputs": [
    {
     "name": "stdout",
     "output_type": "stream",
     "text": [
      "<class 'pandas.core.frame.DataFrame'>\n",
      "Int64Index: 319004 entries, 0 to 319003\n",
      "Data columns (total 4 columns):\n",
      " #   Column  Non-Null Count   Dtype   \n",
      "---  ------  --------------   -----   \n",
      " 0   age     319004 non-null  category\n",
      " 1   sex     319004 non-null  category\n",
      " 2   educ    319004 non-null  category\n",
      " 3   inctot  265103 non-null  float64 \n",
      "dtypes: category(3), float64(1)\n",
      "memory usage: 5.8 MB\n"
     ]
    }
   ],
   "source": [
    "subset.info()\n"
   ]
  },
  {
   "cell_type": "markdown",
   "metadata": {},
   "source": [
    "#### Age is a category column, not an integer column. This explains why the mean method did not work. Now, the problematic values will be found."
   ]
  },
  {
   "cell_type": "code",
   "execution_count": 6,
   "metadata": {},
   "outputs": [
    {
     "data": {
      "text/plain": [
       "less than 1 year old         3150\n",
       "90 (90+ in 1980 and 1990)     480\n",
       "61                              0\n",
       "70                              0\n",
       "69                              0\n",
       "Name: age, dtype: int64"
      ]
     },
     "execution_count": 6,
     "metadata": {},
     "output_type": "execute_result"
    }
   ],
   "source": [
    "subset.loc[~subset.loc[:, \"age\"].str.isnumeric(), \"age\"].value_counts(\n",
    "    dropna=False\n",
    ").head(5)\n"
   ]
  },
  {
   "cell_type": "markdown",
   "metadata": {},
   "source": [
    "# Exercise 5\n",
    "\n",
    "We want to be able to calculate things using age, so we need it to be a numeric type. Check the current type of age, and look at all the values of age to figure out why it’s categorical and not numeric. You should find two problematic categories. Store the values of these categories in \"ex5_age_young\" and \"ex5_age_old\" (once you find them, it should be clear which is which).\n"
   ]
  },
  {
   "cell_type": "code",
   "execution_count": 7,
   "metadata": {},
   "outputs": [
    {
     "name": "stdout",
     "output_type": "stream",
     "text": [
      "The problematic values in the age column are less than 1 year old and 90 (90+ in 1980 and 1990).\n"
     ]
    }
   ],
   "source": [
    "ex5_age_young = \"less than 1 year old\"\n",
    "results[\"ex5_age_young\"] = ex5_age_young\n",
    "ex5_age_old = \"90 (90+ in 1980 and 1990)\"\n",
    "results[\"ex5_age_old\"] = ex5_age_old\n",
    "\n",
    "print(\n",
    "    f\"The problematic values in the age column are {ex5_age_young} and {ex5_age_old}.\"\n",
    ")\n"
   ]
  },
  {
   "cell_type": "markdown",
   "metadata": {},
   "source": [
    "# Exercise 6\n",
    "\n",
    "In order to convert age into a numeric variable, we need to replace those problematic entries with values that pandas can later convert into numbers. Pick appropriate substitutions for the existing values and replace the current values.\n",
    "\n",
    "Hint 1: Categorical variables act like strings, so you might want to use string methods!\n",
    "\n",
    "Hint 2: Remember that characters like parentheses, pluses, asterisks, etc. are special in Python strings, and you have to escape them if you want them to be interpreted literally!\n",
    "\n",
    "Hint 3: Because the US Census has been conducted regularly for hundreds of years but exactly how the census has been conducted have occasionally changed, variables are sometimes coded in a way that might be interpreted in different ways for different census years. For example, hypothetically, one might write 90 (90+ in 1980 and 1990) if the Censuses conducted in 1980 and 1990 used to top-code age at 90 (any values over 90 were just coded as 90), but more recent Censuses no longer top-coded age and recorded ages over 90 as the respondents actual age."
   ]
  },
  {
   "cell_type": "code",
   "execution_count": 8,
   "metadata": {},
   "outputs": [
    {
     "name": "stderr",
     "output_type": "stream",
     "text": [
      "C:\\Users\\ericr\\AppData\\Local\\Temp\\ipykernel_11316\\455119877.py:2: FutureWarning: The default value of regex will change from True to False in a future version.\n",
      "  subset.loc[:, \"age\"] = subset.loc[:, \"age\"].str.replace(\n"
     ]
    },
    {
     "name": "stdout",
     "output_type": "stream",
     "text": [
      "\n"
     ]
    }
   ],
   "source": [
    "subset.loc[:, \"age\"] = subset.loc[:, \"age\"].str.replace(\"less than 1 year old\", \"0\")\n",
    "subset.loc[:, \"age\"] = subset.loc[:, \"age\"].str.replace(\n",
    "    \"90 \\(90\\+ in 1980 and 1990\\)\", \"90\"\n",
    ")\n",
    "print(\"\")\n"
   ]
  },
  {
   "cell_type": "code",
   "execution_count": 9,
   "metadata": {},
   "outputs": [
    {
     "data": {
      "text/plain": [
       "60    4950\n",
       "54    4821\n",
       "56    4776\n",
       "59    4776\n",
       "58    4734\n",
       "      ... \n",
       "93     476\n",
       "95     471\n",
       "92     355\n",
       "91     227\n",
       "96      10\n",
       "Name: age, Length: 97, dtype: int64"
      ]
     },
     "execution_count": 9,
     "metadata": {},
     "output_type": "execute_result"
    }
   ],
   "source": [
    "subset[\"age\"].value_counts()\n"
   ]
  },
  {
   "cell_type": "markdown",
   "metadata": {},
   "source": [
    "\n",
    "# Exercise 7\n",
    "\n",
    "Now convert age from a categorical to numeric. Calculate the average age amoung this group, and store it in \"ex7_avg_age\".\n"
   ]
  },
  {
   "cell_type": "code",
   "execution_count": 10,
   "metadata": {},
   "outputs": [
    {
     "name": "stdout",
     "output_type": "stream",
     "text": [
      "The average age is 41.30.\n"
     ]
    }
   ],
   "source": [
    "subset[\"age\"] = subset[\"age\"].astype(\"object\")\n",
    "subset[\"age\"] = subset[\"age\"].astype(\"float\")\n",
    "ex7_avg_age = subset[\"age\"].mean()\n",
    "results[\"ex7_avg_age\"] = ex7_avg_age\n",
    "\n",
    "print(f\"The average age is {ex7_avg_age:.2f}.\")\n"
   ]
  },
  {
   "cell_type": "markdown",
   "metadata": {},
   "source": [
    "\n",
    "# Exercise 8\n",
    "\n",
    "Let’s now filter out anyone in our data whose age is less than 18. Note that before made age a numeric variable, we couldn’t do this! again, calculate the average age and this time store it in \"ex8_avg_age\".\n"
   ]
  },
  {
   "cell_type": "code",
   "execution_count": 11,
   "metadata": {},
   "outputs": [
    {
     "name": "stdout",
     "output_type": "stream",
     "text": [
      "The average age, after cleaning the records of people younger than 18, is 49.76\n"
     ]
    }
   ],
   "source": [
    "# Exercise 8\n",
    "subset = subset.loc[~(subset.loc[:, \"age\"] < 18), :]\n",
    "\n",
    "\n",
    "ex8_avg_age = subset.loc[~(subset.loc[:, \"age\"] < 18), \"age\"].mean()\n",
    "results[\"ex8_avg_age\"] = ex8_avg_age\n",
    "print(\n",
    "    f\"The average age, after cleaning the records of people younger than 18, is {ex8_avg_age:.2f}\"\n",
    ")\n"
   ]
  },
  {
   "cell_type": "markdown",
   "metadata": {},
   "source": [
    "\n",
    "# Exercise 9\n",
    "\n",
    "Create an indicator variable for whether each person has at least a college Bachelor’s degree called college_degree. Use this variable to calculate the number of people in the dataset with a college degree. You may assume that to get a college degree you need to complete at least 4 years of college. Save the result as \"ex9_num_college\".\n"
   ]
  },
  {
   "cell_type": "code",
   "execution_count": 12,
   "metadata": {},
   "outputs": [
    {
     "data": {
      "text/plain": [
       "grade 12                     92576\n",
       "4 years of college           47212\n",
       "1 year of college            38746\n",
       "5+ years of college          29801\n",
       "2 years of college           20753\n",
       "grade 5, 6, 7, or 8           5975\n",
       "grade 11                      5816\n",
       "grade 10                      4078\n",
       "n/a or no schooling           3644\n",
       "grade 9                       3145\n",
       "nursery school to grade 4     1288\n",
       "Name: educ, dtype: int64"
      ]
     },
     "execution_count": 12,
     "metadata": {},
     "output_type": "execute_result"
    }
   ],
   "source": [
    "# To see the possible values\n",
    "subset.loc[:, \"educ\"].value_counts()\n"
   ]
  },
  {
   "cell_type": "code",
   "execution_count": 13,
   "metadata": {},
   "outputs": [
    {
     "name": "stdout",
     "output_type": "stream",
     "text": [
      "The number of people with a college degree is 77,013.\n"
     ]
    }
   ],
   "source": [
    "bach = [\"4 years of college\", \"5+ years of college\"]  # At least a bachelor's degree\n",
    "edu_bool = subset.loc[:, \"educ\"].isin(bach)\n",
    "subset[\"college_degree\"] = edu_bool\n",
    "ex9_num_college = subset.loc[edu_bool, \"educ\"].count()\n",
    "results[\"ex9_num_college\"] = ex9_num_college\n",
    "print(f\"The number of people with a college degree is {ex9_num_college:,}.\")\n"
   ]
  },
  {
   "cell_type": "markdown",
   "metadata": {},
   "source": [
    "\n",
    "# Exercise 10\n",
    "\n",
    "Let’s examine how the educational gender gap. Use pd.crosstab to create a cross-tabulation of sex and college_degree. pd.crosstab will give you the number of people who have each combination of sex and college_degree (so in this case, it will give us a 2x2 table with Male and Female as rows, and college_degree True and False as columns, or vice versa.\n"
   ]
  },
  {
   "cell_type": "code",
   "execution_count": 14,
   "metadata": {},
   "outputs": [
    {
     "data": {
      "text/html": [
       "<div>\n",
       "<style scoped>\n",
       "    .dataframe tbody tr th:only-of-type {\n",
       "        vertical-align: middle;\n",
       "    }\n",
       "\n",
       "    .dataframe tbody tr th {\n",
       "        vertical-align: top;\n",
       "    }\n",
       "\n",
       "    .dataframe thead th {\n",
       "        text-align: right;\n",
       "    }\n",
       "</style>\n",
       "<table border=\"1\" class=\"dataframe\">\n",
       "  <thead>\n",
       "    <tr style=\"text-align: right;\">\n",
       "      <th>college_degree</th>\n",
       "      <th>False</th>\n",
       "      <th>True</th>\n",
       "    </tr>\n",
       "    <tr>\n",
       "      <th>sex</th>\n",
       "      <th></th>\n",
       "      <th></th>\n",
       "    </tr>\n",
       "  </thead>\n",
       "  <tbody>\n",
       "    <tr>\n",
       "      <th>male</th>\n",
       "      <td>85821</td>\n",
       "      <td>36181</td>\n",
       "    </tr>\n",
       "    <tr>\n",
       "      <th>female</th>\n",
       "      <td>90200</td>\n",
       "      <td>40832</td>\n",
       "    </tr>\n",
       "  </tbody>\n",
       "</table>\n",
       "</div>"
      ],
      "text/plain": [
       "college_degree  False   True\n",
       "sex                         \n",
       "male            85821  36181\n",
       "female          90200  40832"
      ]
     },
     "execution_count": 14,
     "metadata": {},
     "output_type": "execute_result"
    }
   ],
   "source": [
    "pd.crosstab(subset.loc[:, \"sex\"], subset.loc[:, \"college_degree\"])\n"
   ]
  },
  {
   "cell_type": "markdown",
   "metadata": {},
   "source": [
    "\n",
    "# Exercise 11\n",
    "\n",
    "Counts are kind of hard to interpret. pd.crosstab can also normalize values to give percentages. Look at the pd.crosstab help file to figure out how to normalize the values in the table. Normalize them so that you get the share of men with and without college degree, and the share of women with and without college degrees.\n",
    "\n",
    "Store the share (between 0 and 1) of men with college degrees in \"ex11_share_male_w_degrees\", and the share of women with degrees in \"ex11_share_female_w_degrees\".\n"
   ]
  },
  {
   "cell_type": "code",
   "execution_count": 15,
   "metadata": {},
   "outputs": [
    {
     "data": {
      "text/html": [
       "<div>\n",
       "<style scoped>\n",
       "    .dataframe tbody tr th:only-of-type {\n",
       "        vertical-align: middle;\n",
       "    }\n",
       "\n",
       "    .dataframe tbody tr th {\n",
       "        vertical-align: top;\n",
       "    }\n",
       "\n",
       "    .dataframe thead th {\n",
       "        text-align: right;\n",
       "    }\n",
       "</style>\n",
       "<table border=\"1\" class=\"dataframe\">\n",
       "  <thead>\n",
       "    <tr style=\"text-align: right;\">\n",
       "      <th>college_degree</th>\n",
       "      <th>False</th>\n",
       "      <th>True</th>\n",
       "    </tr>\n",
       "    <tr>\n",
       "      <th>sex</th>\n",
       "      <th></th>\n",
       "      <th></th>\n",
       "    </tr>\n",
       "  </thead>\n",
       "  <tbody>\n",
       "    <tr>\n",
       "      <th>male</th>\n",
       "      <td>0.703439</td>\n",
       "      <td>0.296561</td>\n",
       "    </tr>\n",
       "    <tr>\n",
       "      <th>female</th>\n",
       "      <td>0.688381</td>\n",
       "      <td>0.311619</td>\n",
       "    </tr>\n",
       "  </tbody>\n",
       "</table>\n",
       "</div>"
      ],
      "text/plain": [
       "college_degree     False      True\n",
       "sex                               \n",
       "male            0.703439  0.296561\n",
       "female          0.688381  0.311619"
      ]
     },
     "execution_count": 15,
     "metadata": {},
     "output_type": "execute_result"
    }
   ],
   "source": [
    "x = pd.crosstab(\n",
    "    subset.loc[:, \"sex\"], subset.loc[:, \"college_degree\"], normalize=\"index\"\n",
    ")\n",
    "x\n"
   ]
  },
  {
   "cell_type": "code",
   "execution_count": 16,
   "metadata": {},
   "outputs": [
    {
     "name": "stdout",
     "output_type": "stream",
     "text": [
      "The share of males and females that completed college degrees are 0.30 and 0.31\n"
     ]
    }
   ],
   "source": [
    "ex11_share_male_w_degrees = x.iloc[0, 1]\n",
    "ex11_share_female_w_degrees = x.iloc[1, 1]\n",
    "\n",
    "results[\"ex11_share_male_w_degrees\"] = ex11_share_male_w_degrees\n",
    "results[\"ex11_share_female_w_degrees\"] = ex11_share_female_w_degrees\n",
    "\n",
    "print(\n",
    "    f\"The share of males and females that completed college degrees are {ex11_share_male_w_degrees:.2f} and {ex11_share_female_w_degrees:.2f}\"\n",
    ")\n"
   ]
  },
  {
   "cell_type": "markdown",
   "metadata": {},
   "source": [
    "\n",
    "# Exercise 12\n",
    "\n",
    "Now, let’s recreate that table for people who are 40 and over and people under 40. Over time, what does this suggest about the absolute difference in the share of men and women earning college degrees? Has it gotten larger, stayed the same, or gotten smaller? Store your answer (either \"the absolute difference has increased\" or \"the absolute difference has decreased\") in \"ex12_comparing\".\n",
    "\n"
   ]
  },
  {
   "cell_type": "code",
   "execution_count": 17,
   "metadata": {},
   "outputs": [
    {
     "data": {
      "text/html": [
       "<div>\n",
       "<style scoped>\n",
       "    .dataframe tbody tr th:only-of-type {\n",
       "        vertical-align: middle;\n",
       "    }\n",
       "\n",
       "    .dataframe tbody tr th {\n",
       "        vertical-align: top;\n",
       "    }\n",
       "\n",
       "    .dataframe thead th {\n",
       "        text-align: right;\n",
       "    }\n",
       "</style>\n",
       "<table border=\"1\" class=\"dataframe\">\n",
       "  <thead>\n",
       "    <tr style=\"text-align: right;\">\n",
       "      <th>college_degree</th>\n",
       "      <th>False</th>\n",
       "      <th>True</th>\n",
       "    </tr>\n",
       "    <tr>\n",
       "      <th>sex</th>\n",
       "      <th></th>\n",
       "      <th></th>\n",
       "    </tr>\n",
       "  </thead>\n",
       "  <tbody>\n",
       "    <tr>\n",
       "      <th>male</th>\n",
       "      <td>0.682123</td>\n",
       "      <td>0.317877</td>\n",
       "    </tr>\n",
       "    <tr>\n",
       "      <th>female</th>\n",
       "      <td>0.699144</td>\n",
       "      <td>0.300856</td>\n",
       "    </tr>\n",
       "  </tbody>\n",
       "</table>\n",
       "</div>"
      ],
      "text/plain": [
       "college_degree     False      True\n",
       "sex                               \n",
       "male            0.682123  0.317877\n",
       "female          0.699144  0.300856"
      ]
     },
     "execution_count": 17,
     "metadata": {},
     "output_type": "execute_result"
    }
   ],
   "source": [
    "forty_older = subset.loc[subset.loc[:, \"age\"] >= 40]\n",
    "forty_younger = subset.loc[subset.loc[:, \"age\"] < 40]\n",
    "older = pd.crosstab(\n",
    "    forty_older.loc[:, \"sex\"], forty_older.loc[:, \"college_degree\"], normalize=\"index\"\n",
    ")\n",
    "younger = pd.crosstab(\n",
    "    forty_younger.loc[:, \"sex\"],\n",
    "    forty_younger.loc[:, \"college_degree\"],\n",
    "    normalize=\"index\",\n",
    ")\n",
    "older\n"
   ]
  },
  {
   "cell_type": "code",
   "execution_count": 18,
   "metadata": {},
   "outputs": [
    {
     "data": {
      "text/html": [
       "<div>\n",
       "<style scoped>\n",
       "    .dataframe tbody tr th:only-of-type {\n",
       "        vertical-align: middle;\n",
       "    }\n",
       "\n",
       "    .dataframe tbody tr th {\n",
       "        vertical-align: top;\n",
       "    }\n",
       "\n",
       "    .dataframe thead th {\n",
       "        text-align: right;\n",
       "    }\n",
       "</style>\n",
       "<table border=\"1\" class=\"dataframe\">\n",
       "  <thead>\n",
       "    <tr style=\"text-align: right;\">\n",
       "      <th>college_degree</th>\n",
       "      <th>False</th>\n",
       "      <th>True</th>\n",
       "    </tr>\n",
       "    <tr>\n",
       "      <th>sex</th>\n",
       "      <th></th>\n",
       "      <th></th>\n",
       "    </tr>\n",
       "  </thead>\n",
       "  <tbody>\n",
       "    <tr>\n",
       "      <th>male</th>\n",
       "      <td>0.743143</td>\n",
       "      <td>0.256857</td>\n",
       "    </tr>\n",
       "    <tr>\n",
       "      <th>female</th>\n",
       "      <td>0.665710</td>\n",
       "      <td>0.334290</td>\n",
       "    </tr>\n",
       "  </tbody>\n",
       "</table>\n",
       "</div>"
      ],
      "text/plain": [
       "college_degree     False      True\n",
       "sex                               \n",
       "male            0.743143  0.256857\n",
       "female          0.665710  0.334290"
      ]
     },
     "execution_count": 18,
     "metadata": {},
     "output_type": "execute_result"
    }
   ],
   "source": [
    "younger\n"
   ]
  },
  {
   "cell_type": "code",
   "execution_count": 19,
   "metadata": {},
   "outputs": [],
   "source": [
    "ex12_comparing = \"the absolute difference has increased\"\n",
    "results[\"ex12_comparing\"] = ex12_comparing\n"
   ]
  },
  {
   "cell_type": "markdown",
   "metadata": {},
   "source": [
    "# Exercise 13\n",
    "In words, what is causing the change noted in Exercise 12 (i.e., looking at the tables above, tell me a story about Men and Women’s College attainment)."
   ]
  },
  {
   "cell_type": "markdown",
   "metadata": {},
   "source": [
    "With the passage of time, it is evident that less men are pursuing bachelor's degrees and graduate degrees. For the group that is 40 and older (those born on 1976 and earlier), the men had a slightly higher share of college attainment rate than women. For those 40 and below, the gap grows to from hardly a percentage point to approximately 8 percentage points, where men are earning less college degrees. In addition, due to having prior knowledge of this declining trend, I decided to filter and crosstab for the group between 40 and 22. My reasoning is due to skewing by young undergraduate students who are yet to graduate. Predictably, 31% of men in this range were earning degrees versus the 41% of women. \n",
    "\n",
    "Recent trends have been very telling of this phenomenon. Most deserters in high school are men, for example. Therefore, there is an underlying root issue that is causing young men to value education less. In addition, there are industries that do not require men to attain degrees in order to work, such as construction, as well as specialized, short-term projects for certain jobs (i.e. electricians and car repairs). In contrast, focus on female education has incremented due to a cultural shift for wanting more female, college-educated professionals. However, interestingly enough, many of these \"strength\" or hard labor industries are still highly populated by men, and recent studies have shown that females tend to follow the college route and avoid these types of hard labor industries altogether. To conclude, these are some factors influencing the current trends, but there are many more due to the multiple influences affecting them.  "
   ]
  },
  {
   "cell_type": "code",
   "execution_count": 20,
   "metadata": {},
   "outputs": [
    {
     "data": {
      "text/html": [
       "<div>\n",
       "<style scoped>\n",
       "    .dataframe tbody tr th:only-of-type {\n",
       "        vertical-align: middle;\n",
       "    }\n",
       "\n",
       "    .dataframe tbody tr th {\n",
       "        vertical-align: top;\n",
       "    }\n",
       "\n",
       "    .dataframe thead th {\n",
       "        text-align: right;\n",
       "    }\n",
       "</style>\n",
       "<table border=\"1\" class=\"dataframe\">\n",
       "  <thead>\n",
       "    <tr style=\"text-align: right;\">\n",
       "      <th>college_degree</th>\n",
       "      <th>False</th>\n",
       "      <th>True</th>\n",
       "    </tr>\n",
       "    <tr>\n",
       "      <th>sex</th>\n",
       "      <th></th>\n",
       "      <th></th>\n",
       "    </tr>\n",
       "  </thead>\n",
       "  <tbody>\n",
       "    <tr>\n",
       "      <th>male</th>\n",
       "      <td>0.682440</td>\n",
       "      <td>0.317560</td>\n",
       "    </tr>\n",
       "    <tr>\n",
       "      <th>female</th>\n",
       "      <td>0.588905</td>\n",
       "      <td>0.411095</td>\n",
       "    </tr>\n",
       "  </tbody>\n",
       "</table>\n",
       "</div>"
      ],
      "text/plain": [
       "college_degree     False      True\n",
       "sex                               \n",
       "male            0.682440  0.317560\n",
       "female          0.588905  0.411095"
      ]
     },
     "execution_count": 20,
     "metadata": {},
     "output_type": "execute_result"
    }
   ],
   "source": [
    "thirty_22 = subset.loc[(subset.loc[:, \"age\"] < 40) & (subset.loc[:, \"age\"] >= 22)]\n",
    "pd.crosstab(\n",
    "    thirty_22.loc[:, \"sex\"], thirty_22.loc[:, \"college_degree\"], normalize=\"index\"\n",
    ")\n"
   ]
  },
  {
   "cell_type": "code",
   "execution_count": 21,
   "metadata": {},
   "outputs": [],
   "source": [
    "assert set(results.keys()) == {\n",
    "    \"ex5_age_young\",\n",
    "    \"ex5_age_old\",\n",
    "    \"ex7_avg_age\",\n",
    "    \"ex8_avg_age\",\n",
    "    \"ex9_num_college\",\n",
    "    \"ex11_share_male_w_degrees\",\n",
    "    \"ex11_share_female_w_degrees\",\n",
    "    \"ex12_comparing\",\n",
    "}\n"
   ]
  }
 ],
 "metadata": {
  "kernelspec": {
   "display_name": "Python 3.10.6 ('base')",
   "language": "python",
   "name": "python3"
  },
  "language_info": {
   "codemirror_mode": {
    "name": "ipython",
    "version": 3
   },
   "file_extension": ".py",
   "mimetype": "text/x-python",
   "name": "python",
   "nbconvert_exporter": "python",
   "pygments_lexer": "ipython3",
   "version": "3.10.6"
  },
  "orig_nbformat": 4,
  "vscode": {
   "interpreter": {
    "hash": "ef3264f43cc872f281028d39e42a692ca6f149d7a0a29b292a49a9ad657a68bd"
   }
  }
 },
 "nbformat": 4,
 "nbformat_minor": 2
}
